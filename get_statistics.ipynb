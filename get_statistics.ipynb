{
 "cells": [
  {
   "cell_type": "code",
   "execution_count": 1,
   "id": "a6c5d4a9-d8ab-46a3-8ec2-ad6077e8d335",
   "metadata": {},
   "outputs": [
    {
     "data": {
      "text/plain": [
       "{'mean': 4.777777777777778,\n",
       " 'median': 5,\n",
       " 'mode': 5,\n",
       " 'variance': 8.839506172839505,\n",
       " 'standard_deviation': 2.9731307022799225,\n",
       " 'confidence_interval_mean': [2.8353323856215615, 6.720223169933994]}"
      ]
     },
     "execution_count": 1,
     "metadata": {},
     "output_type": "execute_result"
    }
   ],
   "source": [
    "def get_statistics(input_list):\n",
    "    \"\"\"\n",
    "    This function returns statistics of a list of numbers\n",
    "    \"\"\"\n",
    "    #Calculating the mean\n",
    "    n = len(input_list)\n",
    "    mean = sum(input_list) / n\n",
    "    \n",
    "    #Calculating the median\n",
    "    sorted_input_list = sorted(input_list)\n",
    "    \n",
    "    if n % 2 == 0:\n",
    "        median = (sorted_input_list[int(n/2 - 1)] + sorted_input_list[int(n/2)]) / 2\n",
    "    else:\n",
    "        median = sorted_input_list[int((n + 1) / 2)]\n",
    "    \n",
    "    #Calculating the mode\n",
    "    number_counts = {i:input_list.count(i) for i in input_list}\n",
    "    mode = max(input_list, key= lambda k: number_counts[k])\n",
    "    \n",
    "    #Calculating the variance\n",
    "    variance = sum([(i - mean)**2 for i in input_list]) / n\n",
    "    \n",
    "    #Calculating the standart deviation\n",
    "    standard_deviation = variance ** 0.5\n",
    "    standard_error = standard_deviation / (n ** 0.5)\n",
    "    \n",
    "    #Calculating the confidence interval (z-score = 1.96)\n",
    "    z_score = 1.96\n",
    "    confidence_interval_mean = [mean - z_score * standard_error, mean + z_score * standard_error]\n",
    "    \n",
    "    return {'mean': mean, \n",
    "           'median': median,\n",
    "           'mode': mode,\n",
    "           'variance': variance,\n",
    "           'standard_deviation': standard_deviation,\n",
    "           'confidence_interval_mean': confidence_interval_mean}\n",
    "\n",
    "input_list = [12, 2, 3, 5, 5, 6, 5, 1, 4]\n",
    "get_statistics(input_list)"
   ]
  },
  {
   "cell_type": "code",
   "execution_count": null,
   "id": "db46ddfd-5825-4d42-a0ab-655cda102ffa",
   "metadata": {},
   "outputs": [],
   "source": []
  }
 ],
 "metadata": {
  "kernelspec": {
   "display_name": "Python 3 (ipykernel)",
   "language": "python",
   "name": "python3"
  },
  "language_info": {
   "codemirror_mode": {
    "name": "ipython",
    "version": 3
   },
   "file_extension": ".py",
   "mimetype": "text/x-python",
   "name": "python",
   "nbconvert_exporter": "python",
   "pygments_lexer": "ipython3",
   "version": "3.9.7"
  }
 },
 "nbformat": 4,
 "nbformat_minor": 5
}
